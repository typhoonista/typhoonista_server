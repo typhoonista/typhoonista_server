{
 "cells": [
  {
   "cell_type": "code",
   "execution_count": 1,
   "metadata": {},
   "outputs": [
    {
     "name": "stdout",
     "output_type": "stream",
     "text": [
      "Collecting statsmodels\n",
      "  Downloading statsmodels-0.14.1-cp39-cp39-win_amd64.whl (10.0 MB)\n",
      "     -------------------------------------- 10.0/10.0 MB 205.8 kB/s eta 0:00:00\n",
      "Requirement already satisfied: packaging>=21.3 in c:\\users\\james\\appdata\\local\\programs\\python\\python39\\lib\\site-packages (from statsmodels) (23.2)\n",
      "Collecting patsy>=0.5.4\n",
      "  Downloading patsy-0.5.6-py2.py3-none-any.whl (233 kB)\n",
      "     ------------------------------------ 233.9/233.9 KB 311.1 kB/s eta 0:00:00\n",
      "Requirement already satisfied: pandas!=2.1.0,>=1.0 in c:\\users\\james\\appdata\\local\\programs\\python\\python39\\lib\\site-packages (from statsmodels) (2.1.4)\n",
      "Requirement already satisfied: scipy!=1.9.2,>=1.4 in c:\\users\\james\\appdata\\local\\programs\\python\\python39\\lib\\site-packages (from statsmodels) (1.11.4)\n",
      "Requirement already satisfied: numpy<2,>=1.18 in c:\\users\\james\\appdata\\local\\programs\\python\\python39\\lib\\site-packages (from statsmodels) (1.26.3)\n",
      "Requirement already satisfied: python-dateutil>=2.8.2 in c:\\users\\james\\appdata\\local\\programs\\python\\python39\\lib\\site-packages (from pandas!=2.1.0,>=1.0->statsmodels) (2.8.2)\n",
      "Requirement already satisfied: tzdata>=2022.1 in c:\\users\\james\\appdata\\local\\programs\\python\\python39\\lib\\site-packages (from pandas!=2.1.0,>=1.0->statsmodels) (2023.4)\n",
      "Requirement already satisfied: pytz>=2020.1 in c:\\users\\james\\appdata\\local\\programs\\python\\python39\\lib\\site-packages (from pandas!=2.1.0,>=1.0->statsmodels) (2023.3.post1)\n",
      "Requirement already satisfied: six in c:\\users\\james\\appdata\\local\\programs\\python\\python39\\lib\\site-packages (from patsy>=0.5.4->statsmodels) (1.16.0)\n",
      "Installing collected packages: patsy, statsmodels\n",
      "Successfully installed patsy-0.5.6 statsmodels-0.14.1\n",
      "Note: you may need to restart the kernel to use updated packages.\n"
     ]
    },
    {
     "name": "stderr",
     "output_type": "stream",
     "text": [
      "WARNING: You are using pip version 22.0.4; however, version 24.0 is available.\n",
      "You should consider upgrading via the 'c:\\Users\\James\\AppData\\Local\\Programs\\Python\\Python39\\python.exe -m pip install --upgrade pip' command.\n"
     ]
    }
   ],
   "source": [
    "%pip install statsmodels"
   ]
  },
  {
   "cell_type": "code",
   "execution_count": 4,
   "metadata": {},
   "outputs": [
    {
     "name": "stderr",
     "output_type": "stream",
     "text": [
      "c:\\Users\\James\\AppData\\Local\\Programs\\Python\\Python39\\lib\\site-packages\\statsmodels\\tsa\\base\\tsa_model.py:473: ValueWarning: A date index has been provided, but it has no associated frequency information and so will be ignored when e.g. forecasting.\n",
      "  self._init_dates(dates, freq)\n",
      "c:\\Users\\James\\AppData\\Local\\Programs\\Python\\Python39\\lib\\site-packages\\statsmodels\\tsa\\base\\tsa_model.py:473: ValueWarning: A date index has been provided, but it has no associated frequency information and so will be ignored when e.g. forecasting.\n",
      "  self._init_dates(dates, freq)\n",
      "c:\\Users\\James\\AppData\\Local\\Programs\\Python\\Python39\\lib\\site-packages\\statsmodels\\tsa\\statespace\\sarimax.py:866: UserWarning: Too few observations to estimate starting parameters for seasonal ARMA. All parameters except for variances will be set to zeros.\n",
      "  warn('Too few observations to estimate starting parameters%s.'\n",
      "c:\\Users\\James\\AppData\\Local\\Programs\\Python\\Python39\\lib\\site-packages\\statsmodels\\tsa\\base\\tsa_model.py:836: ValueWarning: No supported index is available. Prediction results will be given with an integer index beginning at `start`.\n",
      "  return get_prediction_index(\n",
      "c:\\Users\\James\\AppData\\Local\\Programs\\Python\\Python39\\lib\\site-packages\\statsmodels\\tsa\\base\\tsa_model.py:836: FutureWarning: No supported index is available. In the next version, calling this method in a model without a supported index will result in an exception.\n",
      "  return get_prediction_index(\n"
     ]
    },
    {
     "name": "stdout",
     "output_type": "stream",
     "text": [
      "Forecasted Damage Cost for the Next 5 Days:\n",
      "20   -1.440121e+08\n",
      "21    9.846465e+07\n",
      "22   -3.862730e+07\n",
      "23   -3.520450e+07\n",
      "24    8.418820e+07\n",
      "Name: predicted_mean, dtype: float64\n"
     ]
    }
   ],
   "source": [
    "import pandas as pd\n",
    "import numpy as np\n",
    "from statsmodels.tsa.statespace.sarimax import SARIMAX\n",
    "from sklearn.preprocessing import StandardScaler\n",
    "from sklearn.model_selection import train_test_split\n",
    "\n",
    "# Load the dataset\n",
    "data = pd.read_csv(\"Book1.csv\")  # Replace \"your_dataset.csv\" with the path to your dataset file\n",
    "\n",
    "# Preprocessing\n",
    "# Encode categorical variables\n",
    "data = pd.get_dummies(data, columns=['Typhoon', 'province'])\n",
    "\n",
    "# Handle missing values\n",
    "data.dropna(inplace=True)  # For simplicity, we'll remove rows with missing values\n",
    "\n",
    "# Split the data into training and testing sets\n",
    "X = data[['windspeed', 'rainfall24', 'rainfall6', 'ricearea', 'riceyield', 'farmgateprice']]\n",
    "y = data['damagecosttorice']\n",
    "X_train, X_test, y_train, y_test = train_test_split(X, y, test_size=0.2, random_state=42)\n",
    "\n",
    "# Scale the features\n",
    "scaler = StandardScaler()\n",
    "X_train_scaled = scaler.fit_transform(X_train)\n",
    "X_test_scaled = scaler.transform(X_test)\n",
    "\n",
    "# Training the SARIMAX model\n",
    "model = SARIMAX(endog=y_train, exog=X_train_scaled, order=(1, 1, 1), seasonal_order=(1, 1, 1, 12))\n",
    "result = model.fit()\n",
    "\n",
    "# Forecasting Damage Cost for the next 5 days\n",
    "future_predictors = X_test_scaled[-5:]  # Assuming X_test contains the features for the next 5 days\n",
    "forecast = result.forecast(steps=5, exog=future_predictors)\n",
    "print(\"Forecasted Damage Cost for the Next 5 Days:\")\n",
    "print(forecast)\n"
   ]
  }
 ],
 "metadata": {
  "kernelspec": {
   "display_name": "Python 3",
   "language": "python",
   "name": "python3"
  },
  "language_info": {
   "codemirror_mode": {
    "name": "ipython",
    "version": 3
   },
   "file_extension": ".py",
   "mimetype": "text/x-python",
   "name": "python",
   "nbconvert_exporter": "python",
   "pygments_lexer": "ipython3",
   "version": "3.9.13"
  }
 },
 "nbformat": 4,
 "nbformat_minor": 2
}
